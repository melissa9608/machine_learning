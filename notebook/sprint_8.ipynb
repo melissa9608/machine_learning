{
 "cells": [
  {
   "cell_type": "markdown",
   "metadata": {},
   "source": [
    "# Sprint 8 Machine Learning"
   ]
  },
  {
   "cell_type": "markdown",
   "metadata": {},
   "source": [
    "La compañía móvil Megaline no está satisfecha al ver que muchos de sus clientes utilizan planes heredados. Quieren desarrollar un modelo que pueda analizar el comportamiento de los clientes y recomendar uno de los nuevos planes de Megaline: Smart o Ultra.\n",
    "\n",
    "Desarrollar un modelo con la mayor exactitud posible. En este proyecto, el umbral de exactitud es 0.75. Usa el dataset para comprobar la exactitud."
   ]
  },
  {
   "cell_type": "markdown",
   "metadata": {},
   "source": [
    "## Abre y examina el archivo de datos."
   ]
  },
  {
   "cell_type": "code",
   "execution_count": 1,
   "metadata": {},
   "outputs": [],
   "source": [
    "import pandas as pd\n",
    "from sklearn.tree import DecisionTreeClassifier\n",
    "from sklearn.ensemble import RandomForestClassifier\n",
    "from sklearn.linear_model import LogisticRegression\n",
    "from sklearn.metrics import accuracy_score \n",
    "from sklearn.model_selection import train_test_split\n",
    "from sklearn.dummy import DummyClassifier"
   ]
  },
  {
   "cell_type": "code",
   "execution_count": 2,
   "metadata": {},
   "outputs": [
    {
     "data": {
      "text/html": [
       "<div>\n",
       "<style scoped>\n",
       "    .dataframe tbody tr th:only-of-type {\n",
       "        vertical-align: middle;\n",
       "    }\n",
       "\n",
       "    .dataframe tbody tr th {\n",
       "        vertical-align: top;\n",
       "    }\n",
       "\n",
       "    .dataframe thead th {\n",
       "        text-align: right;\n",
       "    }\n",
       "</style>\n",
       "<table border=\"1\" class=\"dataframe\">\n",
       "  <thead>\n",
       "    <tr style=\"text-align: right;\">\n",
       "      <th></th>\n",
       "      <th>calls</th>\n",
       "      <th>minutes</th>\n",
       "      <th>messages</th>\n",
       "      <th>mb_used</th>\n",
       "      <th>is_ultra</th>\n",
       "    </tr>\n",
       "  </thead>\n",
       "  <tbody>\n",
       "    <tr>\n",
       "      <th>0</th>\n",
       "      <td>40.0</td>\n",
       "      <td>311.90</td>\n",
       "      <td>83.0</td>\n",
       "      <td>19915.42</td>\n",
       "      <td>0</td>\n",
       "    </tr>\n",
       "    <tr>\n",
       "      <th>1</th>\n",
       "      <td>85.0</td>\n",
       "      <td>516.75</td>\n",
       "      <td>56.0</td>\n",
       "      <td>22696.96</td>\n",
       "      <td>0</td>\n",
       "    </tr>\n",
       "    <tr>\n",
       "      <th>2</th>\n",
       "      <td>77.0</td>\n",
       "      <td>467.66</td>\n",
       "      <td>86.0</td>\n",
       "      <td>21060.45</td>\n",
       "      <td>0</td>\n",
       "    </tr>\n",
       "    <tr>\n",
       "      <th>3</th>\n",
       "      <td>106.0</td>\n",
       "      <td>745.53</td>\n",
       "      <td>81.0</td>\n",
       "      <td>8437.39</td>\n",
       "      <td>1</td>\n",
       "    </tr>\n",
       "    <tr>\n",
       "      <th>4</th>\n",
       "      <td>66.0</td>\n",
       "      <td>418.74</td>\n",
       "      <td>1.0</td>\n",
       "      <td>14502.75</td>\n",
       "      <td>0</td>\n",
       "    </tr>\n",
       "    <tr>\n",
       "      <th>...</th>\n",
       "      <td>...</td>\n",
       "      <td>...</td>\n",
       "      <td>...</td>\n",
       "      <td>...</td>\n",
       "      <td>...</td>\n",
       "    </tr>\n",
       "    <tr>\n",
       "      <th>3209</th>\n",
       "      <td>122.0</td>\n",
       "      <td>910.98</td>\n",
       "      <td>20.0</td>\n",
       "      <td>35124.90</td>\n",
       "      <td>1</td>\n",
       "    </tr>\n",
       "    <tr>\n",
       "      <th>3210</th>\n",
       "      <td>25.0</td>\n",
       "      <td>190.36</td>\n",
       "      <td>0.0</td>\n",
       "      <td>3275.61</td>\n",
       "      <td>0</td>\n",
       "    </tr>\n",
       "    <tr>\n",
       "      <th>3211</th>\n",
       "      <td>97.0</td>\n",
       "      <td>634.44</td>\n",
       "      <td>70.0</td>\n",
       "      <td>13974.06</td>\n",
       "      <td>0</td>\n",
       "    </tr>\n",
       "    <tr>\n",
       "      <th>3212</th>\n",
       "      <td>64.0</td>\n",
       "      <td>462.32</td>\n",
       "      <td>90.0</td>\n",
       "      <td>31239.78</td>\n",
       "      <td>0</td>\n",
       "    </tr>\n",
       "    <tr>\n",
       "      <th>3213</th>\n",
       "      <td>80.0</td>\n",
       "      <td>566.09</td>\n",
       "      <td>6.0</td>\n",
       "      <td>29480.52</td>\n",
       "      <td>1</td>\n",
       "    </tr>\n",
       "  </tbody>\n",
       "</table>\n",
       "<p>3214 rows × 5 columns</p>\n",
       "</div>"
      ],
      "text/plain": [
       "      calls  minutes  messages   mb_used  is_ultra\n",
       "0      40.0   311.90      83.0  19915.42         0\n",
       "1      85.0   516.75      56.0  22696.96         0\n",
       "2      77.0   467.66      86.0  21060.45         0\n",
       "3     106.0   745.53      81.0   8437.39         1\n",
       "4      66.0   418.74       1.0  14502.75         0\n",
       "...     ...      ...       ...       ...       ...\n",
       "3209  122.0   910.98      20.0  35124.90         1\n",
       "3210   25.0   190.36       0.0   3275.61         0\n",
       "3211   97.0   634.44      70.0  13974.06         0\n",
       "3212   64.0   462.32      90.0  31239.78         0\n",
       "3213   80.0   566.09       6.0  29480.52         1\n",
       "\n",
       "[3214 rows x 5 columns]"
      ]
     },
     "metadata": {},
     "output_type": "display_data"
    },
    {
     "name": "stdout",
     "output_type": "stream",
     "text": [
      "\n",
      "<class 'pandas.core.frame.DataFrame'>\n",
      "RangeIndex: 3214 entries, 0 to 3213\n",
      "Data columns (total 5 columns):\n",
      " #   Column    Non-Null Count  Dtype  \n",
      "---  ------    --------------  -----  \n",
      " 0   calls     3214 non-null   float64\n",
      " 1   minutes   3214 non-null   float64\n",
      " 2   messages  3214 non-null   float64\n",
      " 3   mb_used   3214 non-null   float64\n",
      " 4   is_ultra  3214 non-null   int64  \n",
      "dtypes: float64(4), int64(1)\n",
      "memory usage: 125.7 KB\n",
      "None\n"
     ]
    }
   ],
   "source": [
    "df = pd.read_csv('/datasets/users_behavior.csv')\n",
    "\n",
    "display(df)\n",
    "print()\n",
    "print(df.info())"
   ]
  },
  {
   "cell_type": "markdown",
   "metadata": {},
   "source": [
    "El DataFrame tiene 5 columnas: calls,minutes, messages, mb_used\ty is_ultra. En este caso se eligío un modelo de clasificación porque el objetivo es predecir si un usuario debe usar el plan \"Smart\" (0) o \"Ultra\" (1), con esto se estaría trabajando con un problema de clasificación binaria. Además la columna target sería \"is_ultra\""
   ]
  },
  {
   "cell_type": "markdown",
   "metadata": {},
   "source": [
    "## Segmenta los datos fuente en un conjunto de entrenamiento, uno de validación y uno de prueba."
   ]
  },
  {
   "cell_type": "code",
   "execution_count": 3,
   "metadata": {},
   "outputs": [],
   "source": [
    "# Variable objetivo is_ultra — plan para el mes actual (Ultra - 1, Smart - 0).\n",
    "# Separación: 60% entrenamiento, 20% validación y 20% prueba\n",
    "\n",
    "\n",
    "features = df[['calls', 'minutes', 'messages', 'mb_used']]\n",
    "target = df['is_ultra']\n",
    "\n",
    "# División del conjunto de datos en dos: conjunto de prueba (20%) y el resto (conjunto de validación + conjuntos de entrenamiento) (80%)\n",
    "\n",
    "features_80, features_test, target_80, target_test = train_test_split(features, target, test_size=0.20, random_state=12345)\n",
    "\n",
    "# División del conjunto de datos restante en conjunto de entrenamiento (60%) y conjunto de validación (20%)\n",
    "\n",
    "features_train, features_valid, target_train, target_valid = train_test_split(features_80, target_80, test_size=0.25, random_state=12345)\n"
   ]
  },
  {
   "cell_type": "markdown",
   "metadata": {},
   "source": [
    "## Investiga la calidad de diferentes modelos cambiando los hiperparámetros. Describe brevemente los hallazgos del estudio."
   ]
  },
  {
   "cell_type": "markdown",
   "metadata": {},
   "source": [
    "Para la regresión Logistica se va a utilizar como parametro:\n",
    "    \n",
    "solver: Algoritmo a utilizar en el problema de optimización. Los valores posibles son:\n",
    "\n",
    "- 'liblinear': Un solucionador de regresión logística bueno para conjuntos de datos pequeños.\n",
    "- 'lbfgs': Un solucionador de optimización que soporta las regularizaciones L2."
   ]
  },
  {
   "cell_type": "code",
   "execution_count": 4,
   "metadata": {},
   "outputs": [
    {
     "name": "stdout",
     "output_type": "stream",
     "text": [
      "Mejores hiperparámetros: {'model': 'LogisticRegression', 'solver': 'liblinear'}\n",
      "Mayor Accuracy en el conjunto de validación: 0.7293934681181959\n"
     ]
    }
   ],
   "source": [
    "# Definiendo rangos de los hiperparámetros\n",
    "depth_opc = [1,2,3,4,5,6]\n",
    "estimators_opc = [10,50,100]\n",
    "solver_opc = ['liblinear', 'lbfgs']\n",
    "\n",
    "best_accuracy = 0\n",
    "best_model = None\n",
    "\n",
    "# Logistic Regression\n",
    "\n",
    "for solver in solver_opc:\n",
    "    model_lg = LogisticRegression(random_state=54321, solver=solver)\n",
    "    model_lg.fit(features_train, target_train)\n",
    "    predictions_lg_valid = model_lg.predict(features_valid)\n",
    "    result_lg_valid = accuracy_score(target_valid, predictions_lg_valid)\n",
    "    if result_lg_valid > best_accuracy:\n",
    "        best_accuracy = result_lg_valid\n",
    "        best_model = model_lg\n",
    "        best_params = {'model': 'LogisticRegression', 'solver': solver}\n",
    "\n",
    "# Imprimir los mejores hiperparámetros\n",
    "print(f'Mejores hiperparámetros: {best_params}')\n",
    "print(f'Mayor Accuracy en el conjunto de validación: {best_accuracy}')\n",
    "\n",
    "\n",
    "\n"
   ]
  },
  {
   "cell_type": "code",
   "execution_count": 5,
   "metadata": {},
   "outputs": [
    {
     "name": "stdout",
     "output_type": "stream",
     "text": [
      "Mejores hiperparámetros: {'model': 'DecisionTree', 'max_depth': 3}\n",
      "Mayor Accuracy en el conjunto de validación: 0.7651632970451011\n"
     ]
    }
   ],
   "source": [
    "# Decision Tree. Modificando el hiperparametro max_depth\n",
    "\n",
    "for depth in depth_opc:\n",
    "    model_dt = DecisionTreeClassifier(random_state=12345, max_depth=depth)\n",
    "    model_dt.fit(features_train, target_train)\n",
    "    predictions_dt_valid = model_dt.predict(features_valid)\n",
    "    result_dt_valid = accuracy_score(target_valid, predictions_dt_valid)\n",
    "    if result_dt_valid > best_accuracy:\n",
    "        best_accuracy = result_dt_valid\n",
    "        best_model = model_dt\n",
    "        best_params = {'model': 'DecisionTree', 'max_depth': depth}\n",
    " \n",
    "\n",
    "print(f'Mejores hiperparámetros: {best_params}')\n",
    "print(f'Mayor Accuracy en el conjunto de validación: {best_accuracy}')   \n"
   ]
  },
  {
   "cell_type": "code",
   "execution_count": 6,
   "metadata": {},
   "outputs": [
    {
     "name": "stdout",
     "output_type": "stream",
     "text": [
      "Mejores hiperparámetros: {'model': 'RandomForest', 'n_estimators': 100}\n",
      "Mayor Accuracy en el conjunto de validación: 0.7978227060653188\n"
     ]
    }
   ],
   "source": [
    "# Random Forest\n",
    "\n",
    "# Predicción y evaluación en el conjunto de validación\n",
    "   \n",
    "for est in estimators_opc:\n",
    "    model_rf = RandomForestClassifier(random_state=54321, n_estimators=est)\n",
    "    model_rf.fit(features_train, target_train)\n",
    "    predictions_rf_valid = model_rf.predict(features_valid)\n",
    "    result_rf_valid = accuracy_score(target_valid, predictions_rf_valid)\n",
    "    if result_rf_valid > best_accuracy:\n",
    "        best_accuracy = result_rf_valid\n",
    "        best_model = model_rf\n",
    "        best_params = {'model': 'RandomForest', 'n_estimators': est}\n",
    "\n",
    "print(f'Mejores hiperparámetros: {best_params}')\n",
    "print(f'Mayor Accuracy en el conjunto de validación: {best_accuracy}')"
   ]
  },
  {
   "cell_type": "markdown",
   "metadata": {},
   "source": [
    "El mejor modelo basado en la exactitud en el conjunto de validación es el Random Forest Classifier. Este modelo tiene la mayor exactitud (0.79) con hiperparámetros de n_estimators: 100, por lo tanto, es el modelo que se usará para ser evaluado en el conjunto de prueba.\n",
    "\n",
    "Exactitud de los  modelos:\n",
    "\n",
    "- Decision tree: 0.76  max_depth: 3\n",
    "- Random Forest: 0.79  n_estimators: 100\n",
    "- Logistic Regression: 0.72  solver: 'liblinear'"
   ]
  },
  {
   "cell_type": "markdown",
   "metadata": {},
   "source": [
    "## Comprueba la calidad del modelo usando el conjunto de prueba."
   ]
  },
  {
   "cell_type": "code",
   "execution_count": 7,
   "metadata": {},
   "outputs": [
    {
     "name": "stdout",
     "output_type": "stream",
     "text": [
      "Nombre del mejor modelo en el conjunto de prueba: RandomForestClassifier(random_state=54321)\n",
      "Accuracy del mejor modelo en el conjunto de prueba: 0.7916018662519441\n",
      "RandomForestClassifier(random_state=54321)\n",
      "100\n"
     ]
    }
   ],
   "source": [
    "# Predicción y evaluación en el conjunto de prueba\n",
    "\n",
    "\n",
    "predict_test = best_model.predict(features_test)\n",
    "result_test = accuracy_score(target_test, predict_test)\n",
    "print(f'Nombre del mejor modelo en el conjunto de prueba: {best_model}')\n",
    "print(f'Accuracy del mejor modelo en el conjunto de prueba: {result_test}')\n",
    "\n",
    "print(best_model)\n",
    "print(best_params['n_estimators'])"
   ]
  },
  {
   "cell_type": "markdown",
   "metadata": {},
   "source": [
    "Se comprueba que el modelo Random Forest es el modelo que tiene la mayor exactitud al estar por encima del umbral de 0.75 cuando se hace la prueba con un modelo de prueba, obteniendo una exactitud de 0.7916018662519441"
   ]
  },
  {
   "cell_type": "markdown",
   "metadata": {},
   "source": [
    "## prueba de cordura al modelo."
   ]
  },
  {
   "cell_type": "code",
   "execution_count": 8,
   "metadata": {},
   "outputs": [
    {
     "name": "stdout",
     "output_type": "stream",
     "text": [
      "La prueba de cordura pasó: La precisión obtenida coincide con la mejor precisión registrada. Accuracy: 0.7978227060653188\n"
     ]
    }
   ],
   "source": [
    "if best_params['model'] == 'RandomForest':\n",
    "    model_cordura = RandomForestClassifier(random_state=54321, n_estimators=best_params['n_estimators'])\n",
    "elif best_params['model'] == 'DecisionTree':\n",
    "    model_cordura = DecisionTreeClassifier(random_state=12345, max_depth=best_params['max_depth'])\n",
    "else:\n",
    "    model_cordura = LogisticRegression(random_state=54321, solver=best_params['solver'])\n",
    "    \n",
    "model_cordura.fit(features_train, target_train)\n",
    "predict_valid_cordura = model_cordura.predict(features_valid)\n",
    "result_model_cordura = accuracy_score(target_valid,predict_valid_cordura)\n",
    "\n",
    "if result_model_cordura == best_accuracy:\n",
    "    print(f'La prueba de cordura pasó: La precisión obtenida coincide con la mejor precisión registrada. Accuracy: {result_model_cordura}')\n",
    "else:\n",
    "    print(\"La prueba de cordura falló\")"
   ]
  },
  {
   "cell_type": "markdown",
   "metadata": {},
   "source": [
    "El modelo de Random Forest Classifier pasó la prueba de cordura, comprobando que el modelo seleccionado tiene un buen rendimiento y es capaz de generalizar bien a nuevos datos. Esto significa que el modelo no está sobreajustando los datos de entrenamiento y es capaz de capturar patrones relevantes en los datos de prueba.\n",
    "\n",
    "Esto indica que el modelo es efectivo para recomendar el plan correcto entre Smart y Ultra, con una exactitud por encima del umbral establecido de 0.75. La prueba de cordura ha sido superada, indicando la validez del modelo entrenado."
   ]
  }
 ],
 "metadata": {
  "ExecuteTimeLog": [
   {
    "duration": 1257,
    "start_time": "2024-05-30T23:25:50.859Z"
   },
   {
    "duration": 3,
    "start_time": "2024-05-30T23:35:47.056Z"
   },
   {
    "duration": 3,
    "start_time": "2024-05-30T23:35:58.860Z"
   },
   {
    "duration": 3,
    "start_time": "2024-05-30T23:36:06.488Z"
   },
   {
    "duration": 28,
    "start_time": "2024-05-30T23:41:58.626Z"
   },
   {
    "duration": 24,
    "start_time": "2024-05-30T23:54:45.831Z"
   },
   {
    "duration": 38,
    "start_time": "2024-05-30T23:54:54.066Z"
   },
   {
    "duration": 38,
    "start_time": "2024-05-30T23:55:05.276Z"
   },
   {
    "duration": 9,
    "start_time": "2024-05-31T00:03:15.135Z"
   },
   {
    "duration": 20,
    "start_time": "2024-05-31T00:03:36.584Z"
   },
   {
    "duration": 12,
    "start_time": "2024-05-31T00:04:06.358Z"
   },
   {
    "duration": 21,
    "start_time": "2024-05-31T00:04:58.091Z"
   },
   {
    "duration": 21,
    "start_time": "2024-05-31T00:05:44.648Z"
   },
   {
    "duration": 22,
    "start_time": "2024-05-31T00:05:58.304Z"
   },
   {
    "duration": 25,
    "start_time": "2024-05-31T00:06:12.984Z"
   },
   {
    "duration": 14,
    "start_time": "2024-05-31T00:06:50.700Z"
   },
   {
    "duration": 12,
    "start_time": "2024-05-31T00:06:55.451Z"
   },
   {
    "duration": 13,
    "start_time": "2024-05-31T00:08:43.942Z"
   },
   {
    "duration": 12,
    "start_time": "2024-05-31T00:10:12.299Z"
   },
   {
    "duration": 12,
    "start_time": "2024-05-31T00:12:32.881Z"
   },
   {
    "duration": 12,
    "start_time": "2024-05-31T00:12:55.921Z"
   },
   {
    "duration": 21,
    "start_time": "2024-05-31T00:13:21.588Z"
   },
   {
    "duration": 23,
    "start_time": "2024-05-31T00:13:33.023Z"
   },
   {
    "duration": 20,
    "start_time": "2024-05-31T00:13:37.660Z"
   },
   {
    "duration": 15,
    "start_time": "2024-05-31T00:13:42.220Z"
   },
   {
    "duration": 11,
    "start_time": "2024-05-31T00:18:11.418Z"
   },
   {
    "duration": 408,
    "start_time": "2024-05-31T00:35:18.459Z"
   },
   {
    "duration": 5,
    "start_time": "2024-05-31T00:35:26.194Z"
   },
   {
    "duration": 970,
    "start_time": "2024-05-31T00:43:50.050Z"
   },
   {
    "duration": 754,
    "start_time": "2024-05-31T00:46:01.757Z"
   },
   {
    "duration": 761,
    "start_time": "2024-05-31T00:46:20.636Z"
   },
   {
    "duration": 35,
    "start_time": "2024-05-31T00:47:22.578Z"
   },
   {
    "duration": 12,
    "start_time": "2024-05-31T00:47:25.436Z"
   },
   {
    "duration": 768,
    "start_time": "2024-05-31T00:47:26.689Z"
   },
   {
    "duration": 42,
    "start_time": "2024-05-31T00:50:17.067Z"
   },
   {
    "duration": 1357,
    "start_time": "2024-05-31T00:50:49.490Z"
   },
   {
    "duration": 13,
    "start_time": "2024-05-31T00:50:50.852Z"
   },
   {
    "duration": 458,
    "start_time": "2024-05-31T00:50:50.868Z"
   },
   {
    "duration": 0,
    "start_time": "2024-05-31T00:50:51.329Z"
   },
   {
    "duration": 573,
    "start_time": "2024-05-31T00:51:05.450Z"
   },
   {
    "duration": 3,
    "start_time": "2024-05-31T00:51:54.796Z"
   },
   {
    "duration": 393,
    "start_time": "2024-05-31T00:52:17.453Z"
   },
   {
    "duration": 586,
    "start_time": "2024-05-31T00:53:03.446Z"
   },
   {
    "duration": 567,
    "start_time": "2024-05-31T00:53:11.609Z"
   },
   {
    "duration": 27565,
    "start_time": "2024-05-31T00:53:57.986Z"
   },
   {
    "duration": 579,
    "start_time": "2024-05-31T00:59:13.257Z"
   },
   {
    "duration": 26,
    "start_time": "2024-05-31T01:01:42.715Z"
   },
   {
    "duration": 561,
    "start_time": "2024-05-31T01:01:47.196Z"
   },
   {
    "duration": 29120,
    "start_time": "2024-05-31T01:02:22.619Z"
   },
   {
    "duration": 47,
    "start_time": "2024-05-31T01:06:29.477Z"
   },
   {
    "duration": 1330,
    "start_time": "2024-05-31T01:06:36.905Z"
   },
   {
    "duration": 13,
    "start_time": "2024-05-31T01:06:38.238Z"
   },
   {
    "duration": 79,
    "start_time": "2024-05-31T01:06:38.253Z"
   },
   {
    "duration": 28287,
    "start_time": "2024-05-31T01:06:38.337Z"
   },
   {
    "duration": 27,
    "start_time": "2024-05-31T01:07:06.626Z"
   },
   {
    "duration": 22,
    "start_time": "2024-05-31T01:12:15.045Z"
   },
   {
    "duration": 10,
    "start_time": "2024-05-31T01:13:36.989Z"
   },
   {
    "duration": 28,
    "start_time": "2024-05-31T01:13:39.874Z"
   },
   {
    "duration": 27810,
    "start_time": "2024-05-31T01:13:41.027Z"
   },
   {
    "duration": 44,
    "start_time": "2024-05-31T01:14:45.577Z"
   },
   {
    "duration": 24,
    "start_time": "2024-05-31T01:17:28.498Z"
   },
   {
    "duration": 1247,
    "start_time": "2024-05-31T01:17:33.582Z"
   },
   {
    "duration": 12,
    "start_time": "2024-05-31T01:17:34.832Z"
   },
   {
    "duration": 24,
    "start_time": "2024-05-31T01:17:34.847Z"
   },
   {
    "duration": 1015,
    "start_time": "2024-05-31T01:17:34.874Z"
   },
   {
    "duration": 0,
    "start_time": "2024-05-31T01:17:35.892Z"
   },
   {
    "duration": 0,
    "start_time": "2024-05-31T01:17:35.895Z"
   },
   {
    "duration": 28342,
    "start_time": "2024-05-31T01:18:00.347Z"
   },
   {
    "duration": 68,
    "start_time": "2024-05-31T01:18:28.694Z"
   },
   {
    "duration": 0,
    "start_time": "2024-05-31T01:18:28.767Z"
   },
   {
    "duration": 19,
    "start_time": "2024-05-31T01:18:48.096Z"
   },
   {
    "duration": 11,
    "start_time": "2024-05-31T01:20:02.877Z"
   },
   {
    "duration": 32,
    "start_time": "2024-05-31T01:20:42.484Z"
   },
   {
    "duration": 35,
    "start_time": "2024-05-31T01:21:07.259Z"
   },
   {
    "duration": 38,
    "start_time": "2024-05-31T01:25:00.069Z"
   },
   {
    "duration": 32,
    "start_time": "2024-05-31T01:31:24.100Z"
   },
   {
    "duration": 1307,
    "start_time": "2024-05-31T01:31:45.576Z"
   },
   {
    "duration": 11,
    "start_time": "2024-05-31T01:31:46.887Z"
   },
   {
    "duration": 38,
    "start_time": "2024-05-31T01:31:46.901Z"
   },
   {
    "duration": 28416,
    "start_time": "2024-05-31T01:31:46.943Z"
   },
   {
    "duration": 18,
    "start_time": "2024-05-31T01:32:15.363Z"
   },
   {
    "duration": 63,
    "start_time": "2024-05-31T01:32:15.384Z"
   },
   {
    "duration": 1394,
    "start_time": "2024-05-31T01:32:15.451Z"
   },
   {
    "duration": 1275,
    "start_time": "2024-05-31T01:33:50.361Z"
   },
   {
    "duration": 12,
    "start_time": "2024-05-31T01:33:51.640Z"
   },
   {
    "duration": 24,
    "start_time": "2024-05-31T01:33:51.655Z"
   },
   {
    "duration": 605,
    "start_time": "2024-05-31T01:33:51.682Z"
   },
   {
    "duration": 39,
    "start_time": "2024-05-31T01:33:52.292Z"
   },
   {
    "duration": 36,
    "start_time": "2024-05-31T01:33:52.334Z"
   },
   {
    "duration": 1402,
    "start_time": "2024-05-31T01:33:52.373Z"
   },
   {
    "duration": 1270,
    "start_time": "2024-06-01T15:38:05.664Z"
   },
   {
    "duration": 11,
    "start_time": "2024-06-01T15:38:06.938Z"
   },
   {
    "duration": 23,
    "start_time": "2024-06-01T15:38:06.952Z"
   },
   {
    "duration": 564,
    "start_time": "2024-06-01T15:38:06.979Z"
   },
   {
    "duration": 20,
    "start_time": "2024-06-01T15:38:07.545Z"
   },
   {
    "duration": 4,
    "start_time": "2024-06-01T15:38:07.568Z"
   },
   {
    "duration": 70,
    "start_time": "2024-06-01T15:38:07.575Z"
   },
   {
    "duration": 1350,
    "start_time": "2024-06-01T15:38:07.651Z"
   },
   {
    "duration": 35,
    "start_time": "2024-06-01T15:39:02.183Z"
   },
   {
    "duration": 29,
    "start_time": "2024-06-01T15:39:36.016Z"
   },
   {
    "duration": 5,
    "start_time": "2024-06-01T15:39:57.127Z"
   },
   {
    "duration": 47,
    "start_time": "2024-06-01T15:42:24.571Z"
   },
   {
    "duration": 1217,
    "start_time": "2024-06-01T15:42:43.852Z"
   },
   {
    "duration": 12,
    "start_time": "2024-06-01T15:42:45.072Z"
   },
   {
    "duration": 23,
    "start_time": "2024-06-01T15:42:45.087Z"
   },
   {
    "duration": 549,
    "start_time": "2024-06-01T15:42:45.132Z"
   },
   {
    "duration": 20,
    "start_time": "2024-06-01T15:42:45.686Z"
   },
   {
    "duration": 27,
    "start_time": "2024-06-01T15:42:45.709Z"
   },
   {
    "duration": 31,
    "start_time": "2024-06-01T15:42:45.739Z"
   },
   {
    "duration": 1371,
    "start_time": "2024-06-01T15:42:45.774Z"
   },
   {
    "duration": 423,
    "start_time": "2024-06-01T16:16:27.018Z"
   },
   {
    "duration": 1220,
    "start_time": "2024-06-01T16:16:36.978Z"
   },
   {
    "duration": 11,
    "start_time": "2024-06-01T16:16:38.202Z"
   },
   {
    "duration": 38,
    "start_time": "2024-06-01T16:16:38.216Z"
   },
   {
    "duration": 572,
    "start_time": "2024-06-01T16:16:38.258Z"
   },
   {
    "duration": 18,
    "start_time": "2024-06-01T16:16:38.836Z"
   },
   {
    "duration": 9,
    "start_time": "2024-06-01T16:16:38.856Z"
   },
   {
    "duration": 64,
    "start_time": "2024-06-01T16:16:38.868Z"
   },
   {
    "duration": 442,
    "start_time": "2024-06-01T16:16:38.935Z"
   },
   {
    "duration": 0,
    "start_time": "2024-06-01T16:16:39.381Z"
   },
   {
    "duration": 30,
    "start_time": "2024-06-01T16:22:10.844Z"
   },
   {
    "duration": 8,
    "start_time": "2024-06-01T16:22:23.495Z"
   },
   {
    "duration": 1287,
    "start_time": "2024-06-02T02:37:59.247Z"
   },
   {
    "duration": 12,
    "start_time": "2024-06-02T02:38:00.538Z"
   },
   {
    "duration": 27,
    "start_time": "2024-06-02T02:38:00.552Z"
   },
   {
    "duration": 593,
    "start_time": "2024-06-02T02:38:00.586Z"
   },
   {
    "duration": 31,
    "start_time": "2024-06-02T02:38:01.183Z"
   },
   {
    "duration": 7,
    "start_time": "2024-06-02T02:38:01.218Z"
   },
   {
    "duration": 33,
    "start_time": "2024-06-02T02:38:01.229Z"
   },
   {
    "duration": 48,
    "start_time": "2024-06-02T02:38:01.265Z"
   },
   {
    "duration": 6,
    "start_time": "2024-06-02T02:49:57.354Z"
   },
   {
    "duration": 26,
    "start_time": "2024-06-02T03:03:28.242Z"
   },
   {
    "duration": 9,
    "start_time": "2024-06-02T03:10:08.957Z"
   },
   {
    "duration": 1200,
    "start_time": "2024-06-02T03:11:55.068Z"
   },
   {
    "duration": 13,
    "start_time": "2024-06-02T03:11:56.271Z"
   },
   {
    "duration": 44,
    "start_time": "2024-06-02T03:11:56.287Z"
   },
   {
    "duration": 561,
    "start_time": "2024-06-02T03:11:56.336Z"
   },
   {
    "duration": 24,
    "start_time": "2024-06-02T03:11:56.900Z"
   },
   {
    "duration": 7,
    "start_time": "2024-06-02T03:11:56.927Z"
   },
   {
    "duration": 31,
    "start_time": "2024-06-02T03:11:56.938Z"
   },
   {
    "duration": 46,
    "start_time": "2024-06-02T03:11:56.972Z"
   },
   {
    "duration": 1293,
    "start_time": "2024-06-03T23:33:03.472Z"
   },
   {
    "duration": 56,
    "start_time": "2024-06-03T23:33:04.769Z"
   },
   {
    "duration": 12,
    "start_time": "2024-06-03T23:33:04.830Z"
   },
   {
    "duration": 26,
    "start_time": "2024-06-03T23:33:04.847Z"
   },
   {
    "duration": 627,
    "start_time": "2024-06-03T23:33:04.876Z"
   },
   {
    "duration": 21,
    "start_time": "2024-06-03T23:33:05.506Z"
   },
   {
    "duration": 8,
    "start_time": "2024-06-03T23:33:05.531Z"
   },
   {
    "duration": 60,
    "start_time": "2024-06-03T23:33:05.542Z"
   },
   {
    "duration": 8,
    "start_time": "2024-06-03T23:33:05.606Z"
   },
   {
    "duration": 59,
    "start_time": "2024-06-03T23:55:22.600Z"
   },
   {
    "duration": 40,
    "start_time": "2024-06-03T23:55:39.907Z"
   },
   {
    "duration": 437,
    "start_time": "2024-06-04T00:30:17.906Z"
   },
   {
    "duration": 37,
    "start_time": "2024-06-04T00:30:40.432Z"
   },
   {
    "duration": 44,
    "start_time": "2024-06-04T00:30:49.133Z"
   },
   {
    "duration": 8,
    "start_time": "2024-06-04T00:31:12.310Z"
   },
   {
    "duration": 43,
    "start_time": "2024-06-04T00:31:18.759Z"
   },
   {
    "duration": 42,
    "start_time": "2024-06-04T00:32:09.726Z"
   },
   {
    "duration": 1280,
    "start_time": "2024-06-04T00:32:17.801Z"
   },
   {
    "duration": 53,
    "start_time": "2024-06-04T00:32:19.085Z"
   },
   {
    "duration": 12,
    "start_time": "2024-06-04T00:32:19.142Z"
   },
   {
    "duration": 449,
    "start_time": "2024-06-04T00:32:19.159Z"
   },
   {
    "duration": 0,
    "start_time": "2024-06-04T00:32:19.611Z"
   },
   {
    "duration": 0,
    "start_time": "2024-06-04T00:32:19.613Z"
   },
   {
    "duration": 0,
    "start_time": "2024-06-04T00:32:19.616Z"
   },
   {
    "duration": 0,
    "start_time": "2024-06-04T00:32:19.618Z"
   },
   {
    "duration": 0,
    "start_time": "2024-06-04T00:32:19.620Z"
   },
   {
    "duration": 9,
    "start_time": "2024-06-04T00:34:11.194Z"
   },
   {
    "duration": 34,
    "start_time": "2024-06-04T00:34:27.866Z"
   },
   {
    "duration": 31,
    "start_time": "2024-06-04T00:34:46.929Z"
   },
   {
    "duration": 65,
    "start_time": "2024-06-04T00:35:07.084Z"
   },
   {
    "duration": 86,
    "start_time": "2024-06-04T00:35:31.723Z"
   },
   {
    "duration": 40,
    "start_time": "2024-06-04T00:39:20.877Z"
   },
   {
    "duration": 90,
    "start_time": "2024-06-04T00:40:29.792Z"
   },
   {
    "duration": 91,
    "start_time": "2024-06-04T00:46:01.818Z"
   },
   {
    "duration": 98,
    "start_time": "2024-06-04T00:46:12.510Z"
   },
   {
    "duration": 966,
    "start_time": "2024-06-04T00:47:02.442Z"
   },
   {
    "duration": 938,
    "start_time": "2024-06-04T00:47:26.547Z"
   },
   {
    "duration": 879,
    "start_time": "2024-06-04T00:50:23.481Z"
   },
   {
    "duration": 872,
    "start_time": "2024-06-04T00:50:41.267Z"
   },
   {
    "duration": 891,
    "start_time": "2024-06-04T00:51:02.933Z"
   },
   {
    "duration": 56,
    "start_time": "2024-06-04T00:53:42.180Z"
   },
   {
    "duration": 893,
    "start_time": "2024-06-04T00:53:49.010Z"
   },
   {
    "duration": 52,
    "start_time": "2024-06-04T01:01:48.610Z"
   },
   {
    "duration": 881,
    "start_time": "2024-06-04T01:01:51.511Z"
   },
   {
    "duration": 19,
    "start_time": "2024-06-04T01:07:52.776Z"
   },
   {
    "duration": 6,
    "start_time": "2024-06-04T01:08:18.127Z"
   },
   {
    "duration": 53,
    "start_time": "2024-06-04T01:08:57.478Z"
   },
   {
    "duration": 1442,
    "start_time": "2024-06-04T01:09:46.682Z"
   },
   {
    "duration": 1113,
    "start_time": "2024-06-04T01:09:57.306Z"
   },
   {
    "duration": 1816,
    "start_time": "2024-06-04T01:10:33.302Z"
   },
   {
    "duration": 1747,
    "start_time": "2024-06-04T01:10:51.319Z"
   },
   {
    "duration": 884,
    "start_time": "2024-06-04T01:11:07.765Z"
   },
   {
    "duration": 17,
    "start_time": "2024-06-04T01:24:33.715Z"
   },
   {
    "duration": 52,
    "start_time": "2024-06-04T01:27:29.732Z"
   },
   {
    "duration": 868,
    "start_time": "2024-06-04T01:27:34.427Z"
   },
   {
    "duration": 18,
    "start_time": "2024-06-04T01:27:37.942Z"
   },
   {
    "duration": 890,
    "start_time": "2024-06-04T01:29:03.796Z"
   },
   {
    "duration": 882,
    "start_time": "2024-06-04T01:29:49.661Z"
   },
   {
    "duration": 1754,
    "start_time": "2024-06-04T01:30:20.672Z"
   },
   {
    "duration": 951,
    "start_time": "2024-06-04T01:30:30.846Z"
   },
   {
    "duration": 60,
    "start_time": "2024-06-04T01:36:24.417Z"
   },
   {
    "duration": 61,
    "start_time": "2024-06-04T01:36:33.029Z"
   },
   {
    "duration": 53,
    "start_time": "2024-06-04T01:38:48.835Z"
   },
   {
    "duration": 873,
    "start_time": "2024-06-04T01:38:52.023Z"
   },
   {
    "duration": 63,
    "start_time": "2024-06-04T01:38:56.605Z"
   },
   {
    "duration": 1272,
    "start_time": "2024-06-04T01:39:04.807Z"
   },
   {
    "duration": 46,
    "start_time": "2024-06-04T01:39:06.083Z"
   },
   {
    "duration": 12,
    "start_time": "2024-06-04T01:39:06.131Z"
   },
   {
    "duration": 79,
    "start_time": "2024-06-04T01:39:06.148Z"
   },
   {
    "duration": 905,
    "start_time": "2024-06-04T01:39:06.230Z"
   },
   {
    "duration": 75,
    "start_time": "2024-06-04T01:39:07.138Z"
   },
   {
    "duration": 436,
    "start_time": "2024-06-04T01:39:07.216Z"
   },
   {
    "duration": 0,
    "start_time": "2024-06-04T01:39:07.655Z"
   },
   {
    "duration": 0,
    "start_time": "2024-06-04T01:39:07.657Z"
   },
   {
    "duration": 27,
    "start_time": "2024-06-04T01:41:12.013Z"
   },
   {
    "duration": 36,
    "start_time": "2024-06-04T01:41:39.180Z"
   },
   {
    "duration": 62,
    "start_time": "2024-06-04T01:41:43.526Z"
   },
   {
    "duration": 82,
    "start_time": "2024-06-04T01:42:07.319Z"
   },
   {
    "duration": 63,
    "start_time": "2024-06-04T01:42:23.615Z"
   },
   {
    "duration": 62,
    "start_time": "2024-06-04T01:42:46.587Z"
   },
   {
    "duration": 61,
    "start_time": "2024-06-04T01:42:53.437Z"
   },
   {
    "duration": 62,
    "start_time": "2024-06-04T01:44:52.445Z"
   },
   {
    "duration": 60,
    "start_time": "2024-06-04T01:44:58.827Z"
   },
   {
    "duration": 1224,
    "start_time": "2024-06-04T01:45:12.912Z"
   },
   {
    "duration": 42,
    "start_time": "2024-06-04T01:45:14.140Z"
   },
   {
    "duration": 12,
    "start_time": "2024-06-04T01:45:14.201Z"
   },
   {
    "duration": 53,
    "start_time": "2024-06-04T01:45:14.217Z"
   },
   {
    "duration": 903,
    "start_time": "2024-06-04T01:45:14.273Z"
   },
   {
    "duration": 74,
    "start_time": "2024-06-04T01:45:15.179Z"
   },
   {
    "duration": 27,
    "start_time": "2024-06-04T01:45:15.257Z"
   },
   {
    "duration": 27,
    "start_time": "2024-06-04T01:45:15.302Z"
   },
   {
    "duration": 8,
    "start_time": "2024-06-04T01:45:15.332Z"
   },
   {
    "duration": 63,
    "start_time": "2024-06-04T01:46:29.355Z"
   },
   {
    "duration": 61,
    "start_time": "2024-06-04T01:50:43.748Z"
   },
   {
    "duration": 65,
    "start_time": "2024-06-04T01:50:49.367Z"
   },
   {
    "duration": 893,
    "start_time": "2024-06-04T01:50:51.303Z"
   },
   {
    "duration": 1182,
    "start_time": "2024-06-04T01:50:57.628Z"
   },
   {
    "duration": 42,
    "start_time": "2024-06-04T01:50:58.814Z"
   },
   {
    "duration": 13,
    "start_time": "2024-06-04T01:50:58.859Z"
   },
   {
    "duration": 77,
    "start_time": "2024-06-04T01:50:58.875Z"
   },
   {
    "duration": 83,
    "start_time": "2024-06-04T01:50:58.956Z"
   },
   {
    "duration": 894,
    "start_time": "2024-06-04T01:50:59.042Z"
   },
   {
    "duration": 29,
    "start_time": "2024-06-04T01:50:59.939Z"
   },
   {
    "duration": 49,
    "start_time": "2024-06-04T01:50:59.971Z"
   },
   {
    "duration": 9,
    "start_time": "2024-06-04T01:51:00.023Z"
   },
   {
    "duration": 63,
    "start_time": "2024-06-04T01:51:35.672Z"
   },
   {
    "duration": 1214,
    "start_time": "2024-06-04T01:51:50.186Z"
   },
   {
    "duration": 45,
    "start_time": "2024-06-04T01:51:51.404Z"
   },
   {
    "duration": 12,
    "start_time": "2024-06-04T01:51:51.453Z"
   },
   {
    "duration": 88,
    "start_time": "2024-06-04T01:51:51.469Z"
   },
   {
    "duration": 73,
    "start_time": "2024-06-04T01:51:51.559Z"
   },
   {
    "duration": 887,
    "start_time": "2024-06-04T01:51:51.635Z"
   },
   {
    "duration": 28,
    "start_time": "2024-06-04T01:51:52.524Z"
   },
   {
    "duration": 47,
    "start_time": "2024-06-04T01:51:52.555Z"
   },
   {
    "duration": 9,
    "start_time": "2024-06-04T01:51:52.606Z"
   },
   {
    "duration": 32,
    "start_time": "2024-06-04T02:20:05.838Z"
   },
   {
    "duration": 11,
    "start_time": "2024-06-04T02:25:11.788Z"
   },
   {
    "duration": 428,
    "start_time": "2024-06-04T02:25:29.770Z"
   },
   {
    "duration": 566,
    "start_time": "2024-06-04T02:26:35.005Z"
   },
   {
    "duration": 567,
    "start_time": "2024-06-04T02:28:48.242Z"
   },
   {
    "duration": 594,
    "start_time": "2024-06-04T02:29:02.485Z"
   },
   {
    "duration": 1197,
    "start_time": "2024-06-04T02:30:06.070Z"
   },
   {
    "duration": 52,
    "start_time": "2024-06-04T02:30:07.271Z"
   },
   {
    "duration": 12,
    "start_time": "2024-06-04T02:30:07.327Z"
   },
   {
    "duration": 85,
    "start_time": "2024-06-04T02:30:07.344Z"
   },
   {
    "duration": 55,
    "start_time": "2024-06-04T02:30:07.433Z"
   },
   {
    "duration": 1070,
    "start_time": "2024-06-04T02:30:07.503Z"
   },
   {
    "duration": 53,
    "start_time": "2024-06-04T02:30:08.576Z"
   },
   {
    "duration": 628,
    "start_time": "2024-06-04T02:30:08.632Z"
   },
   {
    "duration": 471,
    "start_time": "2024-06-04T02:31:36.268Z"
   },
   {
    "duration": 793,
    "start_time": "2024-06-04T02:31:55.299Z"
   },
   {
    "duration": 631,
    "start_time": "2024-06-04T02:32:11.393Z"
   },
   {
    "duration": 1421,
    "start_time": "2024-06-04T02:34:45.669Z"
   },
   {
    "duration": 1236,
    "start_time": "2024-06-04T02:34:55.645Z"
   },
   {
    "duration": 1119,
    "start_time": "2024-06-04T02:35:24.688Z"
   },
   {
    "duration": 28,
    "start_time": "2024-06-04T02:36:52.901Z"
   },
   {
    "duration": 30,
    "start_time": "2024-06-04T02:37:11.926Z"
   },
   {
    "duration": 35,
    "start_time": "2024-06-04T02:37:40.549Z"
   },
   {
    "duration": 7,
    "start_time": "2024-06-04T02:37:50.310Z"
   },
   {
    "duration": 34,
    "start_time": "2024-06-04T02:37:53.550Z"
   },
   {
    "duration": 36,
    "start_time": "2024-06-04T02:38:03.669Z"
   },
   {
    "duration": 28,
    "start_time": "2024-06-04T02:39:05.344Z"
   },
   {
    "duration": 29,
    "start_time": "2024-06-04T02:39:59.890Z"
   },
   {
    "duration": 1128,
    "start_time": "2024-06-04T02:42:27.300Z"
   },
   {
    "duration": 673,
    "start_time": "2024-06-04T02:42:57.310Z"
   },
   {
    "duration": 545,
    "start_time": "2024-06-04T02:44:04.013Z"
   },
   {
    "duration": 581,
    "start_time": "2024-06-04T02:44:18.196Z"
   },
   {
    "duration": 559,
    "start_time": "2024-06-04T02:45:26.703Z"
   },
   {
    "duration": 634,
    "start_time": "2024-06-04T02:45:50.676Z"
   },
   {
    "duration": 1297,
    "start_time": "2024-06-04T02:48:09.039Z"
   },
   {
    "duration": 50,
    "start_time": "2024-06-04T02:48:10.341Z"
   },
   {
    "duration": 17,
    "start_time": "2024-06-04T02:48:10.394Z"
   },
   {
    "duration": 87,
    "start_time": "2024-06-04T02:48:10.415Z"
   },
   {
    "duration": 54,
    "start_time": "2024-06-04T02:48:10.507Z"
   },
   {
    "duration": 1005,
    "start_time": "2024-06-04T02:48:10.564Z"
   },
   {
    "duration": 43,
    "start_time": "2024-06-04T02:48:11.572Z"
   },
   {
    "duration": 623,
    "start_time": "2024-06-04T02:48:11.618Z"
   },
   {
    "duration": 64,
    "start_time": "2024-06-04T02:49:32.749Z"
   },
   {
    "duration": 1146,
    "start_time": "2024-07-26T02:07:21.064Z"
   },
   {
    "duration": 43,
    "start_time": "2024-07-26T02:07:22.214Z"
   },
   {
    "duration": 11,
    "start_time": "2024-07-26T02:07:22.260Z"
   },
   {
    "duration": 88,
    "start_time": "2024-07-26T02:07:22.275Z"
   },
   {
    "duration": 70,
    "start_time": "2024-07-26T02:07:22.366Z"
   },
   {
    "duration": 890,
    "start_time": "2024-07-26T02:07:22.439Z"
   },
   {
    "duration": 29,
    "start_time": "2024-07-26T02:07:23.332Z"
   },
   {
    "duration": 555,
    "start_time": "2024-07-26T02:07:23.364Z"
   }
  ],
  "kernelspec": {
   "display_name": "Python 3 (ipykernel)",
   "language": "python",
   "name": "python3"
  },
  "language_info": {
   "codemirror_mode": {
    "name": "ipython",
    "version": 3
   },
   "file_extension": ".py",
   "mimetype": "text/x-python",
   "name": "python",
   "nbconvert_exporter": "python",
   "pygments_lexer": "ipython3",
   "version": "3.9.19"
  },
  "toc": {
   "base_numbering": 1,
   "nav_menu": {},
   "number_sections": true,
   "sideBar": true,
   "skip_h1_title": true,
   "title_cell": "Table of Contents",
   "title_sidebar": "Contents",
   "toc_cell": false,
   "toc_position": {},
   "toc_section_display": true,
   "toc_window_display": false
  }
 },
 "nbformat": 4,
 "nbformat_minor": 2
}
